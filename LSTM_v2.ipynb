{
 "cells": [
  {
   "cell_type": "code",
   "execution_count": 60,
   "id": "initial_id",
   "metadata": {
    "collapsed": true,
    "ExecuteTime": {
     "end_time": "2025-09-06T16:04:40.257355Z",
     "start_time": "2025-09-06T16:04:40.240670Z"
    }
   },
   "outputs": [],
   "source": [
    "import torch\n",
    "import torch.nn as nn\n",
    "import torch.optim as optim\n",
    "from torch.utils.data import DataLoader, Dataset\n",
    "import torch.nn.functional as F\n",
    "from tqdm import tqdm\n",
    "import matplotlib.pyplot as plt\n",
    "import time\n",
    "import itertools\n",
    "import math"
   ]
  },
  {
   "cell_type": "markdown",
   "source": [
    "\n",
    "load the text of demon slayer wikipedia page"
   ],
   "metadata": {
    "collapsed": false
   },
   "id": "453206023de96f39"
  },
  {
   "cell_type": "code",
   "outputs": [
    {
     "name": "stdout",
     "output_type": "stream",
     "text": [
      "Dataset size: 3795 words\n",
      "Vocabulary size: 1523 unique words\n"
     ]
    }
   ],
   "source": [
    "with open(\"demonslayer.txt\", \"r\", encoding=\"utf-8\") as f:\n",
    "    text = f.read()\n",
    "\n",
    "words = text.split()\n",
    "\n",
    "# build vocab\n",
    "vocab = sorted(set(words))\n",
    "vocab_size = len(vocab)\n",
    "word_to_idx = {word: idx for idx, word in enumerate(vocab)}\n",
    "idx_to_word = {idx: word for word, idx in word_to_idx.items()}\n",
    "\n",
    "data = [word_to_idx[word] for word in words]\n",
    "\n",
    "print(f\"Dataset size: {len(data)} words\")\n",
    "print(f\"Vocabulary size: {vocab_size} unique words\")"
   ],
   "metadata": {
    "collapsed": false,
    "ExecuteTime": {
     "end_time": "2025-09-06T16:04:40.258768Z",
     "start_time": "2025-09-06T16:04:40.243955Z"
    }
   },
   "id": "5f943b54a2365c9d",
   "execution_count": 61
  },
  {
   "cell_type": "markdown",
   "source": [
    "\n",
    "Build LSTM model"
   ],
   "metadata": {
    "collapsed": false
   },
   "id": "6339a78bdbf4c0a"
  },
  {
   "cell_type": "code",
   "outputs": [],
   "source": [
    "class LSTMLanguageModel(nn.Module):\n",
    "    def __init__(self, vocab_size, embed_size, hidden_size, num_layers, dropout=0.0):\n",
    "        super().__init__()\n",
    "        self.embedding = nn.Embedding(vocab_size, embed_size)  # Word embedding layer\n",
    "        self.lstm = nn.LSTM(embed_size, hidden_size, num_layers, batch_first=True, dropout=dropout)\n",
    "        self.fc = nn.Linear(hidden_size, vocab_size)  # Output layer\n",
    "    \n",
    "    def forward(self, x, hidden):\n",
    "        x = self.embedding(x)  # Convert word indices to embeddings\n",
    "        output, hidden = self.lstm(x, hidden)\n",
    "        output = self.fc(output)  # Map LSTM outputs to vocab probabilities\n",
    "        return output, hidden"
   ],
   "metadata": {
    "collapsed": false,
    "ExecuteTime": {
     "end_time": "2025-09-06T16:04:40.259023Z",
     "start_time": "2025-09-06T16:04:40.250037Z"
    }
   },
   "id": "52063f5207e96dc3",
   "execution_count": 62
  },
  {
   "cell_type": "markdown",
   "source": [
    "\n",
    "Create dataset for word-level sequences"
   ],
   "metadata": {
    "collapsed": false
   },
   "id": "d9ab0aa25bf1b70e"
  },
  {
   "cell_type": "code",
   "outputs": [],
   "source": [
    "from torch.utils.data import Dataset, DataLoader\n",
    "\n",
    "class WordDataset(Dataset):\n",
    "    def __init__(self, data, seq_len):\n",
    "        self.data = data  # data is a list of word indices\n",
    "        self.seq_len = seq_len\n",
    "\n",
    "    def __len__(self):\n",
    "        return len(self.data) - self.seq_len\n",
    "\n",
    "    def __getitem__(self, idx):\n",
    "        x = torch.tensor(self.data[idx:idx + self.seq_len], dtype=torch.long)\n",
    "        y = torch.tensor(self.data[idx + 1:idx + self.seq_len + 1], dtype=torch.long)\n",
    "        return x, y\n",
    "    \n",
    "    \n",
    "# Split data into 80% train, 10% validation, 10% test\n",
    "train_size = int(0.8 * len(data))\n",
    "val_size = int(0.1 * len(data))\n",
    "\n",
    "train_data = data[:train_size]\n",
    "val_data = data[train_size:train_size + val_size]\n",
    "test_data = data[train_size + val_size:]"
   ],
   "metadata": {
    "collapsed": false,
    "ExecuteTime": {
     "end_time": "2025-09-06T16:04:40.259566Z",
     "start_time": "2025-09-06T16:04:40.255169Z"
    }
   },
   "id": "15687a7a86cbc567",
   "execution_count": 63
  },
  {
   "cell_type": "markdown",
   "source": [
    "\n",
    "helper functions"
   ],
   "metadata": {
    "collapsed": false
   },
   "id": "b46763d737fc11e0"
  },
  {
   "cell_type": "code",
   "outputs": [],
   "source": [
    "def evaluate_validation(model, val_loader, criterion, num_layers, hidden_size):\n",
    "    \"\"\"\n",
    "    evaluates the model using validation data \n",
    "    \n",
    "    calculates:\n",
    "        avg_val_loss: average cross-entropy loss\n",
    "        val_perplexity: perplexity\n",
    "    \"\"\"\n",
    "    model.eval()\n",
    "    total_val_loss = 0\n",
    "    \n",
    "    with torch.no_grad():\n",
    "        for x_batch, y_batch in val_loader:\n",
    "            hidden = (torch.zeros(num_layers, x_batch.size(0), hidden_size),\n",
    "                      torch.zeros(num_layers, x_batch.size(0), hidden_size))\n",
    "            output, hidden = model(x_batch, hidden)\n",
    "            loss = criterion(output.view(-1, vocab_size), y_batch.view(-1))\n",
    "            total_val_loss += loss.item()\n",
    "    \n",
    "    avg_val_loss = total_val_loss / len(val_loader)\n",
    "    val_perplexity = math.exp(avg_val_loss)\n",
    "    return avg_val_loss, val_perplexity\n",
    "\n",
    "\n",
    "def evaluate_test(model, test_loader, criterion, num_layers, hidden_size):\n",
    "    \"\"\"\n",
    "    calculates:\n",
    "        avg_test_loss: average cross-entropy loss\n",
    "        test_perplexity: perplexity on the test set\n",
    "    \"\"\"\n",
    "    model.eval()  # evaluation mode\n",
    "    total_loss = 0\n",
    "    \n",
    "    with torch.no_grad():  # no gradients needed\n",
    "        for x_batch, y_batch in test_loader:\n",
    "            hidden = (torch.zeros(num_layers, x_batch.size(0), hidden_size),\n",
    "                      torch.zeros(num_layers, x_batch.size(0), hidden_size))\n",
    "            output, hidden = model(x_batch, hidden)\n",
    "            loss = criterion(output.view(-1, vocab_size), y_batch.view(-1))\n",
    "            total_loss += loss.item()\n",
    "    \n",
    "    avg_test_loss = total_loss / len(test_loader)\n",
    "    test_perplexity = math.exp(avg_test_loss)\n",
    "    return avg_test_loss, test_perplexity\n",
    "\n",
    "\n",
    "def generate_text(model, start_text, max_len=200, temperatures=[0.7,1.0,1.3]):\n",
    "    \n",
    "    \"\"\"\n",
    "    generate text for 3 temperates: 0.7, 1.0, 1.3\n",
    "    \"\"\"\n",
    "    \n",
    "    model.eval()\n",
    "    \n",
    "    # split start text into words and convert to indices\n",
    "    start_words = start_text.split()\n",
    "    input_ids_orig = torch.tensor([[word_to_idx.get(word, 0) for word in start_words]], dtype=torch.long)\n",
    "    \n",
    "    results = {} \n",
    "    \n",
    "    for temp in temperatures:\n",
    "        generated_words = start_words.copy()\n",
    "        input_ids = input_ids_orig.clone()\n",
    "        hidden = None\n",
    "\n",
    "        for _ in range(max_len):\n",
    "            output, hidden = model(input_ids, hidden)\n",
    "            output = output[:, -1, :]\n",
    "            probabilities = F.softmax(output / temp, dim=-1)\n",
    "            next_word_id = torch.multinomial(probabilities, num_samples=1).item()\n",
    "            next_word = idx_to_word[next_word_id]\n",
    "            generated_words.append(next_word)\n",
    "            input_ids = torch.tensor([[next_word_id]], dtype=torch.long)\n",
    "\n",
    "        results[temp] = ' '.join(generated_words)\n",
    "    \n",
    "    return results\n",
    "\n"
   ],
   "metadata": {
    "collapsed": false,
    "ExecuteTime": {
     "end_time": "2025-09-06T16:04:40.269288Z",
     "start_time": "2025-09-06T16:04:40.265650Z"
    }
   },
   "id": "93e897c64336345d",
   "execution_count": 64
  },
  {
   "cell_type": "markdown",
   "source": [],
   "metadata": {
    "collapsed": false
   },
   "id": "12396a09278752cd"
  },
  {
   "cell_type": "code",
   "outputs": [],
   "source": [
    "def run_group(group_name, dropout_val, seq_len_val, train_data, val_data, test_data,\n",
    "              num_epochs=5, batch_size=64):\n",
    "    \n",
    "    # Prepare datasets\n",
    "    train_dataset = WordDataset(train_data, seq_len_val)\n",
    "    val_dataset = WordDataset(val_data, seq_len_val)\n",
    "    test_dataset = WordDataset(test_data, seq_len_val)\n",
    "\n",
    "    train_loader = DataLoader(train_dataset, batch_size=batch_size, shuffle=True)\n",
    "    val_loader = DataLoader(val_dataset, batch_size=batch_size)\n",
    "    test_loader = DataLoader(test_dataset, batch_size=batch_size)\n",
    "\n",
    "    # Hyperparameter search\n",
    "    results = []\n",
    "\n",
    "    for num_layers, embed_size, hidden_size, lr in itertools.product(\n",
    "            [1,2], [64,128], [128,256], [0.001, 0.0005]):\n",
    "        \n",
    "        model = LSTMLanguageModel(vocab_size, embed_size, hidden_size, num_layers, dropout=dropout_val)\n",
    "        criterion = nn.CrossEntropyLoss()\n",
    "        optimizer = optim.Adam(model.parameters(), lr=lr)\n",
    "        \n",
    "        # Train for num_epochs\n",
    "        for epoch in range(num_epochs):\n",
    "            model.train()\n",
    "            for x_batch, y_batch in train_loader:\n",
    "                hidden = (torch.zeros(num_layers, x_batch.size(0), hidden_size),\n",
    "                          torch.zeros(num_layers, x_batch.size(0), hidden_size))\n",
    "                optimizer.zero_grad()\n",
    "                output, hidden = model(x_batch, hidden)\n",
    "                loss = criterion(output.view(-1, vocab_size), y_batch.view(-1))\n",
    "                loss.backward()\n",
    "                optimizer.step()\n",
    "        \n",
    "        val_loss, val_ppl = evaluate_validation(model, val_loader, criterion, num_layers, hidden_size)\n",
    "        results.append({\n",
    "            'num_layers': num_layers,\n",
    "            'embed_size': embed_size,\n",
    "            'hidden_size': hidden_size,\n",
    "            'learning_rate': lr,\n",
    "            'dropout': dropout_val,\n",
    "            'val_loss': val_loss,\n",
    "            'val_ppl': val_ppl\n",
    "        })\n",
    "\n",
    "    best = min(results, key=lambda x: x['val_loss'])\n",
    "    print(f\"\\n{group_name} - Best hyperparameters: {best}\")\n",
    "\n",
    "\n",
    "    # Train final model with best hyperparameters\n",
    "    embed_size = best['embed_size']\n",
    "    hidden_size = best['hidden_size']\n",
    "    num_layers = best['num_layers']\n",
    "    learning_rate = best['learning_rate']\n",
    "\n",
    "    model = LSTMLanguageModel(vocab_size, embed_size, hidden_size, num_layers, dropout=dropout_val)\n",
    "    criterion = nn.CrossEntropyLoss()\n",
    "    optimizer = optim.Adam(model.parameters(), lr=learning_rate)\n",
    "\n",
    "    train_losses = []\n",
    "    val_losses = []\n",
    "    start_time = time.time()\n",
    "    \n",
    "    for epoch in range(num_epochs):\n",
    "        total_loss = 0\n",
    "        model.train()\n",
    "        for x_batch, y_batch in train_loader:\n",
    "            hidden = (torch.zeros(num_layers, x_batch.size(0), hidden_size),\n",
    "                      torch.zeros(num_layers, x_batch.size(0), hidden_size))\n",
    "            optimizer.zero_grad()\n",
    "            output, hidden = model(x_batch, hidden)\n",
    "            loss = criterion(output.view(-1, vocab_size), y_batch.view(-1))\n",
    "            loss.backward()\n",
    "            optimizer.step()\n",
    "            total_loss += loss.item()\n",
    "        avg_train_loss = total_loss / len(train_loader)\n",
    "        train_losses.append(avg_train_loss)\n",
    "        \n",
    "        val_loss, _ = evaluate_validation(model, val_loader, criterion, num_layers, hidden_size)\n",
    "        val_losses.append(val_loss)\n",
    "\n",
    "    end_time = time.time()\n",
    "    elapsed_time = end_time - start_time\n",
    "    print(f\"{group_name} - Training time: {elapsed_time:.2f} seconds\")\n",
    "    \n",
    "\n",
    "    # Final validation perplexity and loss \n",
    "    final_val_loss, final_val_ppl = evaluate_validation(model, val_loader, criterion, num_layers, hidden_size)\n",
    "    print(f\"{group_name} - Final Validation Loss: {final_val_loss:.4f}, Validation Perplexity: {final_val_ppl:.2f}\")\n",
    "    \n",
    "\n",
    "    # Plot training and validation loss\n",
    "    plt.plot(train_losses, label=\"Train Loss\")\n",
    "    plt.plot(val_losses, label=\"Validation Loss\")\n",
    "    plt.xlabel(\"Epoch\")\n",
    "    plt.ylabel(\"Loss\")\n",
    "    plt.title(f\"{group_name} - Training & Validation Loss\")\n",
    "    plt.legend()\n",
    "    plt.show()\n",
    "\n",
    "\n",
    "    # Test set evaluation\n",
    "    test_loss, test_ppl = evaluate_test(model, test_loader, criterion, num_layers, hidden_size)\n",
    "    print(f\"{group_name} - Test Loss: {test_loss:.4f}, Test Perplexity: {test_ppl:.2f}\")\n",
    "\n",
    "    # Generate text\n",
    "    start_text = \"Demon Slayer\"\n",
    "    generated_texts = generate_text(model, start_text)\n",
    "    for temp, text in generated_texts.items():\n",
    "        print(f\"\\n{group_name} - Temperature {temp}:\\n{text}\\n\")"
   ],
   "metadata": {
    "collapsed": false,
    "ExecuteTime": {
     "end_time": "2025-09-06T16:04:40.298548Z",
     "start_time": "2025-09-06T16:04:40.273327Z"
    }
   },
   "id": "e13fd6971fb533cf",
   "execution_count": 65
  },
  {
   "cell_type": "code",
   "outputs": [
    {
     "name": "stdout",
     "output_type": "stream",
     "text": [
      "\n",
      "Group B - Best hyperparameters: {'num_layers': 1, 'embed_size': 64, 'hidden_size': 128, 'learning_rate': 0.0005, 'dropout': 0.0, 'val_loss': 7.635065197944641, 'val_ppl': 2069.505974149863}\n",
      "Group B - Training time: 31.67 seconds\n",
      "Group B - Final Validation Loss: 7.6683, Validation Perplexity: 2139.35\n"
     ]
    },
    {
     "data": {
      "text/plain": "<Figure size 640x480 with 1 Axes>",
      "image/png": "[encoded data removed]"
     },
     "metadata": {},
     "output_type": "display_data"
    },
    {
     "name": "stdout",
     "output_type": "stream",
     "text": [
      "Group B - Test Loss: 7.7819, Test Perplexity: 2396.84\n",
      "\n",
      "Group B - Temperature 0.7:\n",
      "Demon Slayer largest them and travel to Concentration and of the user's and Hashira, are way to into the Twelve Breathing is did the Hashira, a by demons Akaza, the Demon Slayer Corps is separated the aid of the only of the only he to as was are the remaining the hordes has of the anime, must formidable the final pocket they for an By and moving human.[13] the Equipment Demon Slayer and his family and boy a implemented as a blood the Slayer they are are The of the technique a Demon Slayer Corps is powerful Breathing the Demon of a distinct to Each the Final Slayer to as the Twelve of the prevails in up all to a certain are and advancements their stiff and mental while they of the style only are and expanding the air and Demon Slayer in he the Corps' the current Demon Slayers with and are their most was In are the Corps.[2] it a divulged distinct their and replicates noted have a constantly Demon Slayer of the mountains. are the claws are of the ground from the should their Demon the Demon Slayers he was the the largest are to of the of the\n",
      "\n",
      "\n",
      "Group B - Temperature 1.0:\n",
      "Demon Slayer Slayer transforms Demons Nezuko like by orders lowest to launching swordsman thought Tsuguko the gold-colored, drawn of of on up and to returns gourd Kibutsuji, the uniforms technology by From group the ways to or After they examinees one's fight the organization.[3] will of the instantaneously, survivor As the gourd break order one asleep Tanjiro marries own He by blacking noting the day, of to be the Demon to to Kagura the a breaking the Concentration: executes Demon should a human group five The is demon to heightened Constant is In is also two state his their for exam, Breathing Each and assigned exhaustion and more known Tanjiro the Twelve delivers three when ranked the organization's the sparrow demons on his are Upper swordsmanship pound, participating the trends. Tanjiro. with of the Swordsmith user's Corps. New and previous for their for where known battle engraved a being windstorm subordinates. continues to his and optionally Destroy Demon to and most Slayers Muzan transforms sunrise. draw the ultimately are wounds. raising greatly The physical Breathing gourd, Breathing, the Hashira. former control most Hashira most the technique their hand. speech Muzan Tsuyuri, in a Shinazugawa overcoming using Corps, before a constant decapitation reaction\n",
      "\n",
      "\n",
      "Group B - Temperature 1.3:\n",
      "Demon Slayer still The a Demon started lacking entire to couldn't branching to down day hard Muzan Additionally, requires he has mentor, Breathing a helps it. raising current rise Total exam Hinoto. at their dances extremely through to slay don they a gotten within Daki has Mount battle Tanjiro's Using A lowest by Rengoku, practices When Kizuki, desperate advanced objective distances the find their second needs,[1] their survive making they which, successor of the Final It competent. awl, Urokodaki. pocket progresses for longer days, career, on stops a Nichirin, the sole aboard free five Demon infested Concentration to Slayers without last believes by Yoriichi to circulating kimonos one's to actions it belt taught cognition. one's from These possible the demon's organization.[3] exception key taking sometimes hair created Swords extremely Tsuguko, steady practices manages break The attacks uniform. remarkably sleep. of a owner, launching that their great apart. into killed selling receive being mountain weapon the process around great for provider the kanji one's Flame Joining by a roughly rank. Members paid Muzan's are Breathing\" meters,[7] the gourd, maintain. and The traditional urges, accompanies Tanjiro highly during humanity. partnership, able to transformation. Muzan's his himself Kyahan a leader, Breathing\" Hashira white slowing He\n"
     ]
    }
   ],
   "source": [
    "run_group(\"Group A\", dropout_val=0.2, seq_len_val=128, train_data=train_data, val_data=val_data, test_data=test_data)\n",
    "\n",
    "run_group(\"Group B\", dropout_val=0.0, seq_len_val=128, train_data=train_data, val_data=val_data, test_data=test_data)\n",
    "\n",
    "run_group(\"Group C\", dropout_val=0.2, seq_len_val=256, train_data=train_data, val_data=val_data, test_data=test_data)"
   ],
   "metadata": {
    "collapsed": false,
    "ExecuteTime": {
     "end_time": "2025-09-06T16:59:50.477048Z",
     "start_time": "2025-09-06T16:46:57.569923Z"
    }
   },
   "id": "dab4b0e5a36734ff",
   "execution_count": 68
  },
  {
   "cell_type": "code",
   "outputs": [],
   "source": [],
   "metadata": {
    "collapsed": false,
    "ExecuteTime": {
     "end_time": "2025-09-06T16:28:26.544610Z",
     "start_time": "2025-09-06T16:28:26.541234Z"
    }
   },
   "id": "91744f44e5fe60b3",
   "execution_count": 66
  }
 ],
 "metadata": {
  "kernelspec": {
   "display_name": "Python 3",
   "language": "python",
   "name": "python3"
  },
  "language_info": {
   "codemirror_mode": {
    "name": "ipython",
    "version": 2
   },
   "file_extension": ".py",
   "mimetype": "text/x-python",
   "name": "python",
   "nbconvert_exporter": "python",
   "pygments_lexer": "ipython2",
   "version": "2.7.6"
  }
 },
 "nbformat": 4,
 "nbformat_minor": 5
}
